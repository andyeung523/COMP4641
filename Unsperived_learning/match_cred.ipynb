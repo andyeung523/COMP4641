{
  "nbformat": 4,
  "nbformat_minor": 0,
  "metadata": {
    "colab": {
      "name": "match_cred.ipynb",
      "provenance": [],
      "collapsed_sections": []
    },
    "kernelspec": {
      "name": "python3",
      "display_name": "Python 3"
    }
  },
  "cells": [
    {
      "cell_type": "code",
      "metadata": {
        "id": "llL9YyNHg0HJ",
        "colab_type": "code",
        "colab": {}
      },
      "source": [
        "import pandas as pd\n",
        "import re\n",
        "import random"
      ],
      "execution_count": 0,
      "outputs": []
    },
    {
      "cell_type": "code",
      "metadata": {
        "id": "BegXHRaxmfG6",
        "colab_type": "code",
        "colab": {}
      },
      "source": [
        "cred_df = pd.read_csv('/content/drive/My Drive/Colab_Data/cred_event_TurkRatings.data', sep=\"\\t\",header=None)\n",
        "random.seed(50)\n",
        "n = 8302219 #number of records in file\n",
        "s = 100000 #desired sample size\n",
        "skip = sorted(random.sample(range(n),n-s))\n",
        "data_df = pd.read_csv('/content/drive/My Drive/Colab_Data/Part4_Result.csv',engine='python',skiprows=skip)\n",
        "data_df.columns=['text', 'id', 'author_id', 'created_at',\n",
        "       'in_reply_to_status_id_str', 'in_reply_to_user_id_str',\n",
        "       'in_reply_to_screen_name', 'quoted_status_id_str', 'retweet_id',\n",
        "       'retweet_author_id', 'topic']\n",
        "cred_df.columns = ['topic_key','topic_terms','Cred_Ratings','Reasons']\n",
        "print(cred_df.loc[0])"
      ],
      "execution_count": 0,
      "outputs": []
    },
    {
      "cell_type": "code",
      "metadata": {
        "id": "gnALOJ__n5ps",
        "colab_type": "code",
        "colab": {}
      },
      "source": [
        "def get_cred_avg(cred_list):\n",
        "  cred_list = cred_list[1:-1]\n",
        "  creds = map(int, re.findall(r'-?\\d+', cred_list))\n",
        "  #print((list(creds)))\n",
        "  return sum(creds)/30\n",
        "print(data_df.loc[0])\n",
        "data_df"
      ],
      "execution_count": 0,
      "outputs": []
    },
    {
      "cell_type": "code",
      "metadata": {
        "id": "2_aWV9HapXIz",
        "colab_type": "code",
        "colab": {}
      },
      "source": [
        "cred_df['avg_cred'] = cred_df['Cred_Ratings'].apply(get_cred_avg)\n",
        "print(cred_df['avg_cred'])"
      ],
      "execution_count": 0,
      "outputs": []
    },
    {
      "cell_type": "code",
      "metadata": {
        "id": "XUz4aun6p50t",
        "colab_type": "code",
        "colab": {}
      },
      "source": [
        "\n",
        "#print(cred_df.loc[0])\n",
        "print(data_df.loc[0])"
      ],
      "execution_count": 0,
      "outputs": []
    },
    {
      "cell_type": "code",
      "metadata": {
        "id": "9cs4gz60rMJy",
        "colab_type": "code",
        "colab": {}
      },
      "source": [
        "def get_topic(topic_key):\n",
        "  topic = topic_key.split(\"-\", 1)\n",
        "  return topic[0].replace(\"_\", \",\")  \n",
        "\n"
      ],
      "execution_count": 0,
      "outputs": []
    },
    {
      "cell_type": "code",
      "metadata": {
        "id": "5QxkLedesA-T",
        "colab_type": "code",
        "colab": {}
      },
      "source": [
        "cred_df['topic'] = cred_df['topic_key'].apply(get_topic)\n",
        "print(cred_df['topic'])"
      ],
      "execution_count": 0,
      "outputs": []
    },
    {
      "cell_type": "code",
      "metadata": {
        "id": "4t0o3s6zsJpi",
        "colab_type": "code",
        "colab": {}
      },
      "source": [
        "\n",
        "cred_df['topic']=cred_df['topic'].astype(str)\n",
        "data_df['topic']=data_df['topic'].astype(str)\n",
        "cred_topic_df= pd.concat([cred_df['topic'],cred_df['avg_cred']],axis=1) \n",
        "#df_merge = data_df.merge(cred_df, on='topic', how='left')\n",
        "df_merge = data_df.merge(cred_df.drop_duplicates(subset=['topic']))\n",
        "print(df_merge)"
      ],
      "execution_count": 0,
      "outputs": []
    },
    {
      "cell_type": "code",
      "metadata": {
        "id": "iK1mV_YRtDdJ",
        "colab_type": "code",
        "colab": {}
      },
      "source": [
        "\n"
      ],
      "execution_count": 0,
      "outputs": []
    },
    {
      "cell_type": "code",
      "metadata": {
        "id": "J1joQydttHU-",
        "colab_type": "code",
        "colab": {}
      },
      "source": [
        "\n",
        "df_merge = df_merge.sort_values(by=['avg_cred'])"
      ],
      "execution_count": 0,
      "outputs": []
    },
    {
      "cell_type": "code",
      "metadata": {
        "id": "zwWscdKD0p-I",
        "colab_type": "code",
        "colab": {}
      },
      "source": [
        "head  = df_merge.sort_values(by=['avg_cred']).head(15000)\n",
        "tail = df_merge.sort_values(by=['avg_cred']).tail(15000)\n",
        "\n",
        "result = pd.concat([head,tail])\n",
        "result.to_csv('train_with_avg_cred.csv',index=False)"
      ],
      "execution_count": 0,
      "outputs": []
    },
    {
      "cell_type": "code",
      "metadata": {
        "id": "yN-MlAqb0311",
        "colab_type": "code",
        "colab": {}
      },
      "source": [
        "result"
      ],
      "execution_count": 0,
      "outputs": []
    },
    {
      "cell_type": "code",
      "metadata": {
        "id": "PMKtjT4AeU3S",
        "colab_type": "code",
        "colab": {}
      },
      "source": [
        ""
      ],
      "execution_count": 0,
      "outputs": []
    }
  ]
}